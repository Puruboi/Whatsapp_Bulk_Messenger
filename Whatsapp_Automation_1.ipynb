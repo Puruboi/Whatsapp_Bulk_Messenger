{
  "nbformat": 4,
  "nbformat_minor": 0,
  "metadata": {
    "colab": {
      "name": "Untitled0.ipynb",
      "provenance": [],
      "authorship_tag": "ABX9TyM7Dkwj4/ZIeiadvQEyWfT1",
      "include_colab_link": true
    },
    "kernelspec": {
      "name": "python3",
      "display_name": "Python 3"
    },
    "language_info": {
      "name": "python"
    }
  },
  "cells": [
    {
      "cell_type": "markdown",
      "metadata": {
        "id": "view-in-github",
        "colab_type": "text"
      },
      "source": [
        "<a href=\"https://colab.research.google.com/github/Puruboi/Project-3-Whatsapp_Messenger/blob/main/Whatsapp_Automation_1.ipynb\" target=\"_parent\"><img src=\"https://colab.research.google.com/assets/colab-badge.svg\" alt=\"Open In Colab\"/></a>"
      ]
    },
    {
      "cell_type": "code",
      "metadata": {
        "colab": {
          "base_uri": "https://localhost:8080/"
        },
        "id": "JDe-WPGBIBJv",
        "outputId": "a5c398da-6731-4b89-ccb7-3f7c098670d9"
      },
      "source": [
        "#!pip install pandas\n",
        "#!pip install pycopy-webbrowser\n",
        "#!pip install webbrowser\n",
        "#!pip install PyAutoGUI\n",
        "#!pip install time\n",
        "import pandas as pd\n",
        "import webbrowser as web \n",
        "import time\n",
        "#import pyautogui as pg\n",
        "\n",
        "print('Libraries Imported...')\n",
        "\n",
        "print(pd.__version__)"
      ],
      "execution_count": 6,
      "outputs": [
        {
          "output_type": "stream",
          "text": [
            "Libraries Imported...\n",
            "1.1.5\n"
          ],
          "name": "stdout"
        }
      ]
    },
    {
      "cell_type": "code",
      "metadata": {
        "id": "5BLKDGfIJ9F8"
      },
      "source": [
        "#path =r\"****\" # excel or csv file path \n",
        "df=pd.read_excel(Book1.xlsx)\n",
        "#df = pd.read_csv(Book1.xlsx)\n",
        "df.info() # describes the table \n",
        "print(df.head()) # gives 1st 5 rows\n",
        "#df.tail() # gives last 5 rows\n",
        "bp_num = list(df['Phone number']) # takes phone number column stores in a list\n",
        "print(bp_num) \n",
        "#bp_value_1 = list(df['value 1']) # values can be anything with respect to \n",
        "#message what is required to be pullled from table , here i hv taken names as values\n",
        "bp_value_1='!'"
      ],
      "execution_count": null,
      "outputs": []
    },
    {
      "cell_type": "code",
      "metadata": {
        "id": "Gu46jrCNKBG-"
      },
      "source": [
        "for i in range(len(bp_num)+1):\n",
        "  web.open('https://web.whatsapp.com/send?phone='+'91'+str(bp_num[i])+'&text='+\"Happy\n",
        "  Diwali, {} \".format(str(bp_value_1[i])))\n",
        "  width,height = pg.size()\n",
        "  pg.click(width/2,height/2)\n",
        "  time.sleep(5)\n",
        "  pg.press('enter')\n",
        "  time.sleep(3)\n"
      ],
      "execution_count": null,
      "outputs": []
    }
  ]
}